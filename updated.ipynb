{
 "cells": [
  {
   "cell_type": "code",
   "execution_count": 2,
   "metadata": {},
   "outputs": [],
   "source": [
    "from absl import logging\n",
    "\n",
    "import tensorflow as tf\n",
    "import tensorflow_hub as hub\n",
    "import matplotlib.pyplot as plt\n",
    "import numpy as np\n",
    "import os\n",
    "import pandas as pd\n",
    "import re\n",
    "import seaborn as sns\n",
    "\n",
    "# Reduce logging output.\n",
    "tf.get_logger().setLevel('ERROR')\n",
    "logging.set_verbosity(logging.ERROR)"
   ]
  },
  {
   "cell_type": "markdown",
   "metadata": {},
   "source": [
    "# Getting started\n",
    "\n",
    "## Data\n",
    "We will try to solve the [Large Movie Review Dataset v1.0](http://ai.stanford.edu/~amaas/data/sentiment/) task [(Mass et al., 2011)](http://ai.stanford.edu/~amaas/papers/wvSent_acl2011.pdf). The dataset consists of IMDB movie reviews labeled by positivity from 1 to 10. The task is to label the reviews as **negative** or **positive**."
   ]
  },
  {
   "cell_type": "code",
   "execution_count": 12,
   "metadata": {},
   "outputs": [
    {
     "name": "stdout",
     "output_type": "stream",
     "text": [
      "len train_df:25000\n"
     ]
    },
    {
     "data": {
      "text/html": [
       "<div>\n",
       "<style scoped>\n",
       "    .dataframe tbody tr th:only-of-type {\n",
       "        vertical-align: middle;\n",
       "    }\n",
       "\n",
       "    .dataframe tbody tr th {\n",
       "        vertical-align: top;\n",
       "    }\n",
       "\n",
       "    .dataframe thead th {\n",
       "        text-align: right;\n",
       "    }\n",
       "</style>\n",
       "<table border=\"1\" class=\"dataframe\">\n",
       "  <thead>\n",
       "    <tr style=\"text-align: right;\">\n",
       "      <th></th>\n",
       "      <th>sentence</th>\n",
       "      <th>sentiment</th>\n",
       "      <th>polarity</th>\n",
       "    </tr>\n",
       "  </thead>\n",
       "  <tbody>\n",
       "    <tr>\n",
       "      <th>0</th>\n",
       "      <td>After a promising first 25 minutes that makes ...</td>\n",
       "      <td>4</td>\n",
       "      <td>0</td>\n",
       "    </tr>\n",
       "    <tr>\n",
       "      <th>1</th>\n",
       "      <td>Imagine being so hampered by a bureaucracy tha...</td>\n",
       "      <td>8</td>\n",
       "      <td>1</td>\n",
       "    </tr>\n",
       "    <tr>\n",
       "      <th>2</th>\n",
       "      <td>Why oh why can't anyone make a decent film out...</td>\n",
       "      <td>3</td>\n",
       "      <td>0</td>\n",
       "    </tr>\n",
       "    <tr>\n",
       "      <th>3</th>\n",
       "      <td>I was rooting for this film as it's a remake o...</td>\n",
       "      <td>1</td>\n",
       "      <td>0</td>\n",
       "    </tr>\n",
       "    <tr>\n",
       "      <th>4</th>\n",
       "      <td>This was one of the funniest and greatest sitc...</td>\n",
       "      <td>10</td>\n",
       "      <td>1</td>\n",
       "    </tr>\n",
       "  </tbody>\n",
       "</table>\n",
       "</div>"
      ],
      "text/plain": [
       "                                            sentence sentiment  polarity\n",
       "0  After a promising first 25 minutes that makes ...         4         0\n",
       "1  Imagine being so hampered by a bureaucracy tha...         8         1\n",
       "2  Why oh why can't anyone make a decent film out...         3         0\n",
       "3  I was rooting for this film as it's a remake o...         1         0\n",
       "4  This was one of the funniest and greatest sitc...        10         1"
      ]
     },
     "execution_count": 12,
     "metadata": {},
     "output_type": "execute_result"
    }
   ],
   "source": [
    "# Load all files from a directory in a DataFrame.\n",
    "def load_directory_data(directory):\n",
    "  data = {}\n",
    "  data[\"sentence\"] = []\n",
    "  data[\"sentiment\"] = []\n",
    "  for file_path in os.listdir(directory):\n",
    "    with tf.io.gfile.GFile(os.path.join(directory, file_path), \"r\") as f:\n",
    "      data[\"sentence\"].append(f.read())\n",
    "      data[\"sentiment\"].append(re.match(\"\\d+_(\\d+)\\.txt\", file_path).group(1))\n",
    "  return pd.DataFrame.from_dict(data)\n",
    "\n",
    "# Merge positive and negative examples, add a polarity column and shuffle.\n",
    "def load_dataset(directory):\n",
    "  pos_df = load_directory_data(os.path.join(directory, \"pos\"))\n",
    "  neg_df = load_directory_data(os.path.join(directory, \"neg\"))\n",
    "  pos_df[\"polarity\"] = 1\n",
    "  neg_df[\"polarity\"] = 0\n",
    "  return pd.concat([pos_df, neg_df]).sample(frac=1).reset_index(drop=True)\n",
    "\n",
    "# Download and process the dataset files.\n",
    "def download_and_load_datasets(force_download=False):\n",
    "  dataset = tf.keras.utils.get_file(\n",
    "      fname=\"aclImdb.tar.gz\", \n",
    "      origin=\"http://ai.stanford.edu/~amaas/data/sentiment/aclImdb_v1.tar.gz\", \n",
    "      extract=True)\n",
    "  \n",
    "  train_df = load_dataset(os.path.join(os.path.dirname(dataset), \n",
    "                                       \"aclImdb\", \"train\"))\n",
    "  test_df = load_dataset(os.path.join(os.path.dirname(dataset), \n",
    "                                      \"aclImdb\", \"test\"))\n",
    "  \n",
    "  return train_df, test_df\n",
    "\n",
    "train_df, test_df = download_and_load_datasets()\n",
    "print(f'len train_df:{len(train_df)}')\n",
    "train_df.head()"
   ]
  },
  {
   "cell_type": "markdown",
   "metadata": {},
   "source": [
    "## Model\n",
    "### Tensor Data\n",
    "\n",
    "In order to use Tensorflow 2.1.0 we need to use td.data.Dateset. This objects are data containers useful to apply tensorflow pipelines."
   ]
  },
  {
   "cell_type": "code",
   "execution_count": 18,
   "metadata": {},
   "outputs": [
    {
     "data": {
      "text/plain": [
       "<tf.Tensor: shape=(10,), dtype=string, numpy=\n",
       "array([b\"Saw this film in August at the 27th Annual National Association of Black Journalists Convention in Milwaukee, WI, it's first public screening. THE FILM IS GREAT!!! Derek Luke is wonderful as Antwone Fisher. This young actor has a very bright future. The real Antwone Fisher did a great job writing the film and Denzel's direction is right on the money. See it opening weekend. You won't be disappointed.\",\n",
       "       b'I remember this show from Swedish television. I was only 7 years of age and it scared me beyond belief.<br /><br />I would love to revisit this series and see if it was just as excellent as remember though i suspect my taste and demands have changed.<br /><br />Although this was released before alien and a plethora of other space-thrillers i suspect that it has its root in scary movies from the 50:s and the political climate of the 70:s. When i think of it, this was a real sci-fi, a movie trying to discuss scientific and political questions about who we are and what we are. The term sci-fi has since then become bleak and come to be the term for any movie that has space-ships in them.',\n",
       "       b\"After some difficulty, Johnny Yuma arrives at his ailing uncle's ranch to take over day to day operations, only to find out that the old man has been murdered by his beautiful gold-digger wife and the woman's vicious brother.<br /><br />Good production values, a likable performance by Mark Damon, and a breezy action packed script combine to make this an entertaining, if not exceptionally deep, above average addition to the spaghetti western genre.<br /><br />Co-star Rosalba Neri is one of the hottest European babes ever to grace the screen. Here she's absolutely perfect as the cold-hearted user (and abuser) of weak men.<br /><br />Damon and Neri appeared together in at least one other picture, The Devil's Wedding Night, a pretty good horror movie that's of particular interest for those of you that want to see what's underneath Rosalba's dresses.\",\n",
       "       b\"I wait for each new episode, each re-run with anticipation! The new look of sci-fi created by Stargate SG-1 is a wonder that I hope will never end. To combine the past with the future is a new twist that is fascinating to me. Season #9 should be a thrill in itself. I wish that Richard Dean Anderson would show up more often in the new season, as I love his dry wit as much as his temper tantrums in his character as Jack O'Neill. The other characters add their own uniqueness to the show that makes it a winner, season after season. You cancel this program in the next three years, and you make a serious mistake. Also, you need a bigger role for the Asgard - they are just too cool.\",\n",
       "       b'Ben & Arthur COULD have been a 10. Sam Mraovich wrote, directed, stared, and produced this movie. Sam should have given his idea to a good writer, director, and left the acting to somebody who could act. this is a good example of one person controlling the whole production. there was nobody to tell him, \"Sam this is bad, really bad\".<br /><br />Jamie Brett Gabel\\'s acting was the only good point, but he could have been so much better with a good director, and better actors to work with. <br /><br />This movie is so bad i think Sam Mraovich should be tied to a chair and made to watch this movie (twice). the acting and direction was so bad, this movie was turned into a comedy. you just had to laugh, and in the wrong places. <br /><br />A second good point....this would make a great date movie. after the first two minutes you would quit watching the movie and pay more attention to your date!',\n",
       "       b\"Well since seeing part's 1 through 3 I can honestly say that they should have NEVER made part 4. Everything from the tacky, and I DO mean tacky score to the really bad acting, I dare anyone to watch this and not be bored out of their minds.<br /><br />I mean parts 1 to 3 kept the vibe strong on the plot of Damion, but without him around in this one it's just not the same. Sure by the end of part 3 I was getting a little tired of the continued story line's, but it was a good closure at the end of the third one. Again there was no reason for a part 4. Even if there was they could have done a MUCH better job than this sh*t I had to sit through, lol. There goes an hour and a half of my life i'll never see again.\",\n",
       "       b\"Vanilla Sky is a 2001 remake of the 1997 movie Abre Los Ojos (Open Your Eyes). And in my opinion, a much more human and emotional version. Tom Cruise plays David Aames, a selfish egomaniac who takes other people's emotions for granted, and thinks only of himself. Jason Lee plays Brian Shelby, David's best, and in many ways, only friend. Penelope Cruz plays Sofia Serrano, Brian's girlfriend whom accompanies him to David's birthday party. Cameron Diaz plays Julie Gianni, David's occasional bed buddy. Kurt Russell plays Dr. Curtis McCabe, a psychologist interviewing David. All of their interactions, and the consequences of them, make Vanilla Sky one of the most emotional, and complex thrillers ever made. I won't explain anymore of the plot, because it's far more compelling, the less you know. Ignore all people that call this film too confusing to follow. If you pay attention, you won't be confused. The film is very complex, but not confusing. And in my opinion, one of the best movies ever made.\",\n",
       "       b'There\\'s a certain allure I\\'ve always found in discovering the great (semi-) unknown film. These discoveries have nearly always been dramatic films - in my experience, unknown sci-fi, action and horror are unknown for very, very good reasons. I found \"High Tide\" on video at a junk store, mixed in amongst countless dozens of tapes of varying quality. Of course, that\\'s the only place I would find it, as it is still not on DVD.<br /><br />While I was watching Judy Davis (as Lillie) throughout the course of this film, I was somehow certain I was watching a great undiscovered performance. Yes, I had previously seen Davis in several small parts - and one starring role in \"A Passage to India\". But, although she was superb in the aforementioned film, \"High Tide\" is a different animal entirely. Since recently watching Gillian Armstrong\\'s later film, \"Charlotte Gray\", I was acutely aware of the sort of actress which impresses her. Davis draws much more than a passing resemblance to Cate Blanchett - in both manner and sensibility.<br /><br />Judy Davis\\' performance is stunning, I cannot say enough good things about it. She shares an amazing on-screen relationship with young Claudia Karvan (as Ally), this film\\'s other great actress. There\\'s a lot of drama and quiet humanity they share together, the details of which I won\\'t presume to reveal here (see it for yourself!). There\\'s too much good in \"High Tide\" to cover in one review. Indeed, I would hardly care to - the film speaks well enough for itself. In conclusion, I would like to praise screenwriter Laura Jones for her stunning dialogue, director Gillian Armstrong for her understanding of actors, and the great Russell Boyd for his brilliant, understated cinematography (please see his work in \"Tender Mercies\").',\n",
       "       b\"Almost a two-person play, and as such the dialog and the performances of the leads will be important. Neither are particularly good. This might have been stronger, in fact, if it had first been crafted as a two-person play, and then worked into a film.<br /><br />Anyway, a twitchy vampire who seems slightly autistic becomes infatuated with a stripper (as a result of watching too much porn in his crappy home). He wants to have her tell him about the daylight. He would have been better off finding someone with a day job, or someone who excels at painting a picture with words like a poet, but then they might not have a hot bod.<br /><br />After he gets her to do whatever he wants (and he's not terribly good at it), he intends to feed on her at 6 AM, at which point the sun rises. Much is made of that deadline, despite the fact that he also says that he can go without feeding, it will just make him hungrier. Additionally, he claims he can't let the stripper go, since she knows about him, but he lets a number of other people go who learn what he is. There are a lot of inconsistencies.<br /><br />Why this vampire chooses to live in a house so poorly boarded up that light from streetlamps and neighboring buildings pours in as if it were daytime, I'm not sure. With all the time in the world, you'd think he'd have done a better job, or fixed the place up a bit. He's clearly not a wealthy vampire.<br /><br />This is supposedly a remake, and I'm curious to see the original version of this, Dance of the Damned. Although, that was directed by Katt Shea, and the other films she directed for Corman (Stripped to Kill, StK II) were pretty bad.\",\n",
       "       b'Colleges, High Schools, Fraternities and Sororities have been the most popular stalking grounds for maniacal madmen since the slasher cycle first became a popular cinema culture throughout the late seventies. Even backwoods cabins and campsites have rode shotgun to the amount of massacres that have taken place on campuses since Halloween categorised the genre as a cult horror category. From early entries like To all a Good Night right up until the big budgeted schlock of titles like Urban Legend or Schools Out, there\\'s usually always been a campus slasher lurking somewhere in the pipeline. Despite being picked up by Troma - the titans of B movie badness \\xc2\\x96 Splatter University was heavily panned upon release and never really found an audience. Even notorious hack and slash websites like HYSTERIA-LIVES have written off Richard Haines\\' splatter yarn as one of the worst of the early eighties boom. I always approach criticised movies optimistically because there\\'s often the chance than a few bad reviews can be unfairly contagious like a dose of the flu, which crowds the judgement of certain authors.<br /><br />It begins in traditional fashion at the place where any maniac worth his salts emerges. Yep you guessed it \\xc2\\x96 an insane asylum! It seems that one of the inmates has decided that he\\'s unhappy with the level of service at the institution and therefore he\\'s looking to take his business elsewhere. The unseen nut-job makes his break after stabbing an unfortunate orderly where the sun certainly doesn\\'t shine. He obviously favours the dress sense of the murdered worker, so he takes the liberty of borrowing his uniform, blood stained trousers and all!<br /><br />Three years later, we transfer to St Trinians College, an educational establishment that is controlled by catholic priests. A teacher is busy after hours marking her students work when all of a sudden there\\'s a knock at the door. Before she has a chance to find out what the unseen visitor wants, he stabs her in the chest with a kitchen knife and she falls to the floor in a bloody heap. This of course means that there\\'s a vacancy at the university and so we\\'re introduced to Julie Parker (Francine Forbes), the lovable replacement for the recently departed lecturer. It seems that her arrival has inadvertently given the resident maniac all the motivation that he needs to go on a no holds barred slaughter-thon. Before long students and teachers alike are dropping like flies to the camera shy menace as he stalks the corridors and local areas armed with an exceptionally large blade. Suspicious suspects abound, but can professor Parker solve the mystery of the campus murderer before she becomes just another statistic? <br /><br />I\\'m not precisely sure how many versions of this movie are available. The UK altered video was released under the alias of Campus Killings, but the US copy that I own states that it\\'s the complete unedited edition, which could mean that there is a censored print floating about somewhere? I\\'d be fairly surprised if that was the case as Splatter University certainly isn\\'t as gore-delicious as the hyperbole packaging would lead you to believe. One or two litres of corn syrup certainly don\\'t stand up to gore hound\\'s scrutiny when compared to the likes of Blood Rage or Pieces, so in this instance the movie is somewhat over hyped. One thing that many critics have failed to mention is the charming lead performance from Francine Forbes, who ends up carrying the entire picture on her shoulders throughout the 79-minute running time. Despite amateurish direction from Richard Haines she still unveils some magnificent potential that should have lead to the chance of another stab at serious acting under a more accomplished helmer. Unfortunately that possibility never came, and bottom of the barrel bombs like Death Ring and Splitz certainly didn\\'t help to nurture a talent that could have improved dramatically under the right scholarship.<br /><br />The rest of the cast members were par for the course of movie obscurity, especially the wooden plank teenagers who for some strange reason acted like they were auditioning for a remake of Grease or The Wanderers. The bog standard point and shoot direction couldn\\'t have helped to build much confidence in the project and the fact that the few signs of potential were undermined by the clumsy handling of the script writer left the feature effectively unredeemable. Perhaps the only claim of originality to be found in Haines\\' slasher is the brave attempt for the contrasting conclusion. Let\\'s just say that it\\'s not a final that I was expecting to witness in a movie that was so typical of the cycle.<br /><br />At one point in the runtime, one of the teens says, \"Man that Parker bores me to tears\\xc2\\x85\" Well the same can be said for Splatter University, which never lifts the pace above slow motion. With that said though, Francine Forbes made for a delectable scream queen and undoubtedly one that I would have paid to watch again in a similar role. So that pretty much sums up this un-troma-tising ride. Slow paced, shoddy but still strangely alluring; you\\'d have to be especially forgiving to give it a chance\\xc2\\x85'],\n",
       "      dtype=object)>"
      ]
     },
     "execution_count": 18,
     "metadata": {},
     "output_type": "execute_result"
    }
   ],
   "source": [
    "validation_qty = int(len(train_df)*0.1)\n",
    "train_ds = tf.data.Dataset.from_tensor_slices((list(train_df['sentence'].values)[validation_qty:], \n",
    "                                              list(train_df['polarity'].values)[validation_qty:])\n",
    "                                            )\n",
    "\n",
    "validate_ds = tf.data.Dataset.from_tensor_slices((list(train_df['sentence'].values)[:validation_qty], \n",
    "                                              list(train_df['polarity'].values)[:validation_qty])\n",
    "                                            )\n",
    "\n",
    "\n",
    "test_ds = tf.data.Dataset.from_tensor_slices((list(test_df['sentence'].values), \n",
    "                                              list(test_df['polarity'].values))\n",
    "                                            )\n",
    "train_examples_batch, train_labels_batch = next(iter(dataset.batch(10)))\n",
    "train_examples_batch"
   ]
  },
  {
   "cell_type": "code",
   "execution_count": null,
   "metadata": {},
   "outputs": [],
   "source": []
  },
  {
   "cell_type": "markdown",
   "metadata": {},
   "source": [
    "### Feature columns\n",
    "\n",
    "TF-Hub provides a [feature column](https://www.tensorflow.org/hub/api_docs/python/hub/text_embedding_column.md) that applies a module on the given text feature and passes further the outputs of the module. In this tutorial we will be using the [nnlm-en-dim128 module](https://tfhub.dev/google/nnlm-en-dim128/1). For the purpose of this tutorial, the most important facts are:\n",
    "\n",
    "* The module takes **a batch of sentences in a 1-D tensor of strings** as input.\n",
    "* The module is responsible for **preprocessing of sentences** (e.g. removal of punctuation and splitting on spaces).\n",
    "* The module works with any input (e.g. **nnlm-en-dim128** hashes words not present in vocabulary into ~20.000 buckets)."
   ]
  },
  {
   "cell_type": "code",
   "execution_count": 118,
   "metadata": {},
   "outputs": [
    {
     "data": {
      "text/plain": [
       "<tf.Tensor: shape=(1, 128), dtype=float32, numpy=\n",
       "array([[ 4.56216812e-01,  1.10036425e-01,  2.18274016e-02,\n",
       "         1.39539480e-01,  1.47129353e-02, -4.39994484e-02,\n",
       "         1.95757061e-01, -1.23551428e-01,  1.14617862e-01,\n",
       "        -8.50839838e-02, -2.83196848e-02, -3.67758244e-01,\n",
       "        -2.06497207e-01, -2.00883418e-01, -1.47509530e-01,\n",
       "         3.15800756e-02, -7.28541240e-02,  9.20439735e-02,\n",
       "        -1.22595333e-01,  5.98617792e-01, -3.39370314e-03,\n",
       "         9.89742130e-02,  2.07929201e-02,  1.63649559e-01,\n",
       "         9.55127478e-02, -5.61356777e-03, -1.08779103e-01,\n",
       "        -1.06894337e-01, -1.67396963e-01,  7.32648373e-02,\n",
       "         6.24098517e-02,  5.88044815e-04,  2.29244400e-02,\n",
       "        -3.40163447e-02,  2.05800220e-01, -1.32402882e-01,\n",
       "        -9.12887231e-02, -1.55842185e-01, -6.51008636e-02,\n",
       "         1.12249866e-01, -3.36622745e-02, -2.26004105e-02,\n",
       "        -2.67575774e-02,  1.24639824e-01,  3.84006128e-02,\n",
       "         1.12821639e-01, -2.82189790e-02, -3.56720865e-01,\n",
       "        -9.89943817e-02, -1.27714813e-01, -7.03576431e-02,\n",
       "         6.48860112e-02,  4.09327410e-02,  2.68536776e-01,\n",
       "         6.98396098e-03,  1.85752362e-02, -6.89437464e-02,\n",
       "         1.11299101e-02,  4.11638282e-02, -2.46221274e-01,\n",
       "         3.57710011e-02, -9.59400460e-02,  1.84496399e-02,\n",
       "        -1.03749387e-01, -1.95387155e-01, -1.24396063e-01,\n",
       "        -1.03389146e-02, -1.21404961e-01,  1.64933830e-01,\n",
       "        -5.56958839e-03, -1.03354603e-02,  1.33292481e-01,\n",
       "        -1.38287485e-01, -4.02533412e-02,  1.64649755e-01,\n",
       "        -4.32339087e-02, -8.58102217e-02, -6.83599338e-02,\n",
       "        -1.64697804e-02,  1.94320194e-02,  8.79932120e-02,\n",
       "         1.91433877e-01, -1.73238456e-01, -1.33361563e-01,\n",
       "        -2.11864978e-01, -1.71821639e-02,  1.07855633e-01,\n",
       "         6.57502189e-02,  2.20790267e-01,  1.38229817e-01,\n",
       "         7.27399364e-02,  1.18127372e-02,  5.14950138e-04,\n",
       "        -3.38150375e-02,  2.34361719e-02,  6.71623200e-02,\n",
       "         1.03990495e-01,  9.65240821e-02,  2.17597589e-01,\n",
       "        -3.31525095e-02, -1.17632626e-02,  7.10770711e-02,\n",
       "         8.86587352e-02, -1.01343893e-01,  8.90718102e-02,\n",
       "        -3.08909655e-01, -1.15280092e-01, -1.15569621e-01,\n",
       "         6.37158845e-03, -1.46987796e-01, -1.22104861e-01,\n",
       "        -8.09570253e-02,  1.46561235e-01, -6.46002172e-03,\n",
       "        -8.14795569e-02, -1.06847823e-01,  7.55268931e-02,\n",
       "        -3.58984396e-02, -1.24685504e-01, -1.38481548e-02,\n",
       "        -4.47846875e-02, -7.31288344e-02, -1.55535648e-02,\n",
       "         1.27952278e-01, -7.20940605e-02,  1.83734953e-01,\n",
       "         1.48007423e-01, -3.55141275e-02]], dtype=float32)>"
      ]
     },
     "execution_count": 118,
     "metadata": {},
     "output_type": "execute_result"
    }
   ],
   "source": [
    "embedding = \"https://tfhub.dev/google/nnlm-en-dim128/2\"\n",
    "hub_layer = hub.KerasLayer(embedding, input_shape=[], \n",
    "                           dtype=tf.string, trainable=True)\n",
    "hub_layer(train_examples_batch[:1])"
   ]
  },
  {
   "cell_type": "markdown",
   "metadata": {},
   "source": [
    "### DNN Classifier\n",
    "\n",
    "For classification we can use a DNN Classifier."
   ]
  },
  {
   "cell_type": "code",
   "execution_count": 119,
   "metadata": {},
   "outputs": [
    {
     "name": "stdout",
     "output_type": "stream",
     "text": [
      "Model: \"sequential_10\"\n",
      "_________________________________________________________________\n",
      "Layer (type)                 Output Shape              Param #   \n",
      "=================================================================\n",
      "keras_layer_6 (KerasLayer)   (None, 128)               124642688 \n",
      "_________________________________________________________________\n",
      "dense_21 (Dense)             (None, 32)                4128      \n",
      "_________________________________________________________________\n",
      "dense_22 (Dense)             (None, 16)                528       \n",
      "_________________________________________________________________\n",
      "dense_23 (Dense)             (None, 1)                 17        \n",
      "=================================================================\n",
      "Total params: 124,647,361\n",
      "Trainable params: 124,647,361\n",
      "Non-trainable params: 0\n",
      "_________________________________________________________________\n"
     ]
    }
   ],
   "source": [
    "model = tf.keras.Sequential()\n",
    "model.add(hub_layer)\n",
    "model.add(tf.keras.layers.Dense(32, activation='relu'))\n",
    "model.add(tf.keras.layers.Dense(16, activation='relu'))\n",
    "model.add(tf.keras.layers.Dense(1, activation='sigmoid'))\n",
    "\n",
    "model.summary()"
   ]
  },
  {
   "cell_type": "code",
   "execution_count": 120,
   "metadata": {},
   "outputs": [],
   "source": [
    "model.compile(optimizer='adam',\n",
    "              loss=tf.keras.losses.BinaryCrossentropy(from_logits=True),\n",
    "              metrics=['accuracy'])"
   ]
  },
  {
   "cell_type": "markdown",
   "metadata": {},
   "source": [
    "### Training\n",
    "\n",
    "Train the estimator for a reasonable amount of steps."
   ]
  },
  {
   "cell_type": "markdown",
   "metadata": {},
   "source": [
    "# Prediction\n",
    "\n",
    "Run predictions for both training and test set."
   ]
  },
  {
   "cell_type": "code",
   "execution_count": 121,
   "metadata": {},
   "outputs": [
    {
     "name": "stdout",
     "output_type": "stream",
     "text": [
      "Train for 44 steps, validate for 5 steps\n",
      "Epoch 1/5\n",
      "44/44 [==============================] - 60s 1s/step - loss: 0.6911 - accuracy: 0.5374 - val_loss: 0.6492 - val_accuracy: 0.7044\n",
      "Epoch 2/5\n",
      "44/44 [==============================] - 58s 1s/step - loss: 0.6049 - accuracy: 0.8113 - val_loss: 0.5795 - val_accuracy: 0.8348\n",
      "Epoch 3/5\n",
      "44/44 [==============================] - 60s 1s/step - loss: 0.5548 - accuracy: 0.9049 - val_loss: 0.5665 - val_accuracy: 0.8692\n",
      "Epoch 4/5\n",
      "44/44 [==============================] - 61s 1s/step - loss: 0.5347 - accuracy: 0.9436 - val_loss: 0.5614 - val_accuracy: 0.8716\n",
      "Epoch 5/5\n",
      "44/44 [==============================] - 58s 1s/step - loss: 0.5234 - accuracy: 0.9617 - val_loss: 0.5621 - val_accuracy: 0.8748\n"
     ]
    }
   ],
   "source": [
    "history = model.fit(train_ds.shuffle(10000).batch(512),\n",
    "                    epochs=5,\n",
    "                    validation_data=validate_ds.batch(512),\n",
    "                    verbose=1)"
   ]
  },
  {
   "cell_type": "code",
   "execution_count": 122,
   "metadata": {},
   "outputs": [
    {
     "name": "stdout",
     "output_type": "stream",
     "text": [
      "49/49 - 2s - loss: 0.5662 - accuracy: 0.8698\n",
      "loss: 0.566\n",
      "accuracy: 0.870\n"
     ]
    }
   ],
   "source": [
    "results = model.evaluate(test_ds.batch(512), verbose=2)\n",
    "\n",
    "for name, value in zip(model.metrics_names, results):\n",
    "  print(\"%s: %.3f\" % (name, value))"
   ]
  },
  {
   "cell_type": "code",
   "execution_count": 123,
   "metadata": {
    "scrolled": false
   },
   "outputs": [
    {
     "data": {
      "image/png": "[encoded data removed]",
      "text/plain": [
       "<Figure size 432x288 with 2 Axes>"
      ]
     },
     "metadata": {
      "needs_background": "light"
     },
     "output_type": "display_data"
    }
   ],
   "source": [
    "LABELS = [\n",
    "    \"negative\", \"positive\"\n",
    "]\n",
    "\n",
    "# Create a confusion matrix on training data.\n",
    "cm = tf.math.confusion_matrix(test_df[\"polarity\"], \n",
    "                              model.predict(test_ds.batch(512)) > 0.5)\n",
    "\n",
    "# Normalize the confusion matrix so that each row sums to 1.\n",
    "cm = tf.cast(cm, dtype=tf.float32)\n",
    "cm = cm / tf.math.reduce_sum(cm, axis=1)[:, np.newaxis]\n",
    "\n",
    "sns.heatmap(cm, annot=True, xticklabels=LABELS, yticklabels=LABELS);\n",
    "plt.xlabel(\"Predicted\");\n",
    "plt.ylabel(\"True\");"
   ]
  },
  {
   "cell_type": "code",
   "execution_count": 124,
   "metadata": {},
   "outputs": [
    {
     "data": {
      "text/plain": [
       "array([[0.98417956]], dtype=float32)"
      ]
     },
     "execution_count": 124,
     "metadata": {},
     "output_type": "execute_result"
    }
   ],
   "source": [
    "model.predict(['It was great'])"
   ]
  },
  {
   "cell_type": "code",
   "execution_count": null,
   "metadata": {},
   "outputs": [],
   "source": []
  }
 ],
 "metadata": {
  "kernelspec": {
   "display_name": "Python 3",
   "language": "python",
   "name": "python3"
  },
  "language_info": {
   "codemirror_mode": {
    "name": "ipython",
    "version": 3
   },
   "file_extension": ".py",
   "mimetype": "text/x-python",
   "name": "python",
   "nbconvert_exporter": "python",
   "pygments_lexer": "ipython3",
   "version": "3.6.9"
  }
 },
 "nbformat": 4,
 "nbformat_minor": 4
}
