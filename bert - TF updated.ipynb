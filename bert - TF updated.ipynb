{
 "cells": [
  {
   "cell_type": "code",
   "execution_count": 1,
   "metadata": {},
   "outputs": [],
   "source": [
    "from absl import logging\n",
    "\n",
    "import tensorflow as tf\n",
    "import tensorflow_hub as hub\n",
    "import matplotlib.pyplot as plt\n",
    "import numpy as np\n",
    "import os\n",
    "import pandas as pd\n",
    "import re\n",
    "import seaborn as sns\n",
    "\n",
    "# Reduce logging output.\n",
    "tf.get_logger().setLevel('ERROR')\n",
    "logging.set_verbosity(logging.ERROR)"
   ]
  },
  {
   "cell_type": "markdown",
   "metadata": {},
   "source": [
    "# Getting started\n",
    "\n",
    "## Data\n",
    "We will try to solve the [Large Movie Review Dataset v1.0](http://ai.stanford.edu/~amaas/data/sentiment/) task [(Mass et al., 2011)](http://ai.stanford.edu/~amaas/papers/wvSent_acl2011.pdf). The dataset consists of IMDB movie reviews labeled by positivity from 1 to 10. The task is to label the reviews as **negative** or **positive**."
   ]
  },
  {
   "cell_type": "code",
   "execution_count": 2,
   "metadata": {},
   "outputs": [
    {
     "name": "stdout",
     "output_type": "stream",
     "text": [
      "len train_df:25000\n"
     ]
    },
    {
     "data": {
      "text/html": [
       "<div>\n",
       "<style scoped>\n",
       "    .dataframe tbody tr th:only-of-type {\n",
       "        vertical-align: middle;\n",
       "    }\n",
       "\n",
       "    .dataframe tbody tr th {\n",
       "        vertical-align: top;\n",
       "    }\n",
       "\n",
       "    .dataframe thead th {\n",
       "        text-align: right;\n",
       "    }\n",
       "</style>\n",
       "<table border=\"1\" class=\"dataframe\">\n",
       "  <thead>\n",
       "    <tr style=\"text-align: right;\">\n",
       "      <th></th>\n",
       "      <th>sentence</th>\n",
       "      <th>sentiment</th>\n",
       "      <th>polarity</th>\n",
       "    </tr>\n",
       "  </thead>\n",
       "  <tbody>\n",
       "    <tr>\n",
       "      <th>0</th>\n",
       "      <td>Incredibly ARTISTIC NOBODY COULD MAKE THEM NOW...</td>\n",
       "      <td>10</td>\n",
       "      <td>1</td>\n",
       "    </tr>\n",
       "    <tr>\n",
       "      <th>1</th>\n",
       "      <td>This movie was for a while in my collection, b...</td>\n",
       "      <td>8</td>\n",
       "      <td>1</td>\n",
       "    </tr>\n",
       "    <tr>\n",
       "      <th>2</th>\n",
       "      <td>Centered in the downtown and out skirts of Det...</td>\n",
       "      <td>9</td>\n",
       "      <td>1</td>\n",
       "    </tr>\n",
       "    <tr>\n",
       "      <th>3</th>\n",
       "      <td>Since the start of her career in the 70's and ...</td>\n",
       "      <td>7</td>\n",
       "      <td>1</td>\n",
       "    </tr>\n",
       "    <tr>\n",
       "      <th>4</th>\n",
       "      <td>Somewhat too long and going over the top towar...</td>\n",
       "      <td>7</td>\n",
       "      <td>1</td>\n",
       "    </tr>\n",
       "  </tbody>\n",
       "</table>\n",
       "</div>"
      ],
      "text/plain": [
       "                                            sentence sentiment  polarity\n",
       "0  Incredibly ARTISTIC NOBODY COULD MAKE THEM NOW...        10         1\n",
       "1  This movie was for a while in my collection, b...         8         1\n",
       "2  Centered in the downtown and out skirts of Det...         9         1\n",
       "3  Since the start of her career in the 70's and ...         7         1\n",
       "4  Somewhat too long and going over the top towar...         7         1"
      ]
     },
     "execution_count": 2,
     "metadata": {},
     "output_type": "execute_result"
    }
   ],
   "source": [
    "# Load all files from a directory in a DataFrame.\n",
    "def load_directory_data(directory):\n",
    "  data = {}\n",
    "  data[\"sentence\"] = []\n",
    "  data[\"sentiment\"] = []\n",
    "  for file_path in os.listdir(directory):\n",
    "    with tf.io.gfile.GFile(os.path.join(directory, file_path), \"r\") as f:\n",
    "      data[\"sentence\"].append(f.read())\n",
    "      data[\"sentiment\"].append(re.match(\"\\d+_(\\d+)\\.txt\", file_path).group(1))\n",
    "  return pd.DataFrame.from_dict(data)\n",
    "\n",
    "# Merge positive and negative examples, add a polarity column and shuffle.\n",
    "def load_dataset(directory):\n",
    "  pos_df = load_directory_data(os.path.join(directory, \"pos\"))\n",
    "  neg_df = load_directory_data(os.path.join(directory, \"neg\"))\n",
    "  pos_df[\"polarity\"] = 1\n",
    "  neg_df[\"polarity\"] = 0\n",
    "  return pd.concat([pos_df, neg_df]).sample(frac=1).reset_index(drop=True)\n",
    "\n",
    "# Download and process the dataset files.\n",
    "def download_and_load_datasets(force_download=False):\n",
    "  dataset = tf.keras.utils.get_file(\n",
    "      fname=\"aclImdb.tar.gz\", \n",
    "      origin=\"http://ai.stanford.edu/~amaas/data/sentiment/aclImdb_v1.tar.gz\", \n",
    "      extract=True)\n",
    "  \n",
    "  train_df = load_dataset(os.path.join(os.path.dirname(dataset), \n",
    "                                       \"aclImdb\", \"train\"))\n",
    "  test_df = load_dataset(os.path.join(os.path.dirname(dataset), \n",
    "                                      \"aclImdb\", \"test\"))\n",
    "  \n",
    "  return train_df, test_df\n",
    "\n",
    "train_df, test_df = download_and_load_datasets()\n",
    "print(f'len train_df:{len(train_df)}')\n",
    "train_df.head()"
   ]
  },
  {
   "cell_type": "markdown",
   "metadata": {},
   "source": [
    "## Model\n",
    "### Tensor Data\n",
    "\n",
    "In order to use Tensorflow 2.1.0 we need to use td.data.Dateset. This objects are data containers useful to apply tensorflow pipelines."
   ]
  },
  {
   "cell_type": "code",
   "execution_count": 3,
   "metadata": {},
   "outputs": [
    {
     "data": {
      "text/plain": [
       "<tf.Tensor: shape=(10,), dtype=string, numpy=\n",
       "array([b\"This is what I was expecting when star trek DS9 premiered. Not to slight DS9. That was a wonderful show in it's own right, however it never really gave the fans more of what they wanted. Enterprise is that show. While having a similarity to the original trek it differs enough to be original in it's own ways. It makes the ideas of exploration exciting to us again. And that was one of the primary ingredients that made the original so loved. Another ingredient to success was the relationships that evolved between the crew members. Viewers really cared deeply for the crew. Enterprise has much promise in this area as well. The chemistry between Bakula and Blalock seems very promising. While sexual tension in a show can often become a crutch, I feel the tensions on enterprise can lead to much more and say alot more than is typical. I think when we deal with such grand scale characters of different races or species even, we get some very interesting ideas and television. Also, we should note the performances, Blalock is very convincing as Vulcan T'pol and Bacula really has a whimsy and strength of character that delivers a great performance. The rest of the cast delivered good performances also. My only gripes are as follows. The theme. It's good it's different, but a little to light hearted for my liking. We need something a little more grand. Doesn't have to be orchestral. Maybe something with a little more electronic sound would suffice. And my one other complaint. They sell too many adds. They could fix this by selling less ads, or making all shows two parters. Otherwise we'll end up seeing the shows final act getting wrapped up way too quickly as was one of my complaints of Voyager.\",\n",
       "       b'Have never understood why the MacDonald-Eddy swan song has always been panned so mercilessly--not just by their detractors but by virtually everyone. To me, \"I Married an Angel\" is more lively and imaginative than any of the duo\\'s more celebrated outings. The sets and costumes are as lavish as any to be found in an MGM musical, the script is by the reliable Anita Loos (\"San Francisco,\" \"The Women,\" \"Gentlemen Prefer Blondes,\" etc.), the Rodgers and Hart tunes (albeit altered a bit by MacDonald-Eddy regulars Bob Wright and Chet Forrest) are given celestial treatment by Herbert Stothart (Oscar-winner for scoring \"The Wizard of Oz\"), and best of all, the \"singing sweethearts\" look great in their contemporary clothes and seem to be having fun with the bizarre proceedings. Try to show \"Rose Marie\" or \"Sweethearts\" to the uninitiated today and they may very well have a hard time sitting still, but this offbeat, fast-paced fantasy is bound to entertain.',\n",
       "       b\"Corny! I love it! Corny - just as the TV show was about 40 years ago! Adam and Burt rekindle the same on-screen chemistry that never seems to have left! They re-live old memories, plus the actors that play them from the 1960s show some behind-the-scenes things which are quite interesting to know. 1960s TV was corny escapism for so many of us back then, and this DVD is no exception, if you are familiar with the original TV show. The fight scene with the written Boofs and Bams or whatever is fantastic!! The movie theater scene shows clips of the villains who passed away. At the end Frank Gorshin makes an appearance. He passed away not too long after this DVD was made, I believe, so it is to his great credit that he came back to again play a villain to Adam and Burt, just as he did to Batman & Robin so many years ago. He didn't lose his touch! Thanks to Julie Newmar to re-living a villain role, also. In conclusion I think that this DVD is for great memories, and I wish to thank both Adam and Burt for coming back and recreating these memories for those of us who remember the original-!!! Thanks, Guys!!!\",\n",
       "       b'I first watched this film when I was a kid and is the only time in my life that I can remember putting my hands over my face and eyes in utter horror at one particular scene. I remembered it again with a disscusion with my uni friends and promptly bought it on video with plenty of hesitation I might add (to my surprise I only found it on the web in the States when it was made in England!) When I watched it again my reaction and to my surprise was almost the same, of sheer horror and fear and never has my heart been beating so much too. This is in my opinon the SCARIEST film ever made, Hollywood films seem tame in comparison and a bit Pony and Trap (crap), pardon the pun. What is amazing though is the power of this film and at uni when watching this with about twenty of my associates I have never heard so many screams, blokes as well! Even the sight of the video brings the fear of God into me of that one particular scene, and left me feeling that I will never walk alone again in the dark!!!!',\n",
       "       b'A very early Oliver Stone (associate-)produced film, and one of the first films in the impressive career of Lloyd Kaufman (co-founder and president of the world\\'s only real independent film studio Troma, creator of the Toxic Avenger and, at the prestigious Amsterdam Fantastic Filmfestival, lifetime-achievement awarded filmmaker for over 30 years). Having raised the money for this film on his own, Lloyd wrote this script together with Theodore Gershuni in 1970 and in hindsight regrets having listened to advice to have Gershuni else direct the film instead of doing it himself. But back then he was still inexperienced in the business and it is probably because of decisions like these that he takes no nonsense from anyone anymore. Indeed it would have been interesting to see Lloyd\\'s version of his own script - as one of the world\\'s most original, daring, experimental and non-compromising directors he probably would have given it even more edge than it already has. But as it is we have the Gershuni-directed film. And weather it is due to the strong script, or the fact that he too is indeed quite a director of his own, SUGAR COOKIES is a very intelligent, highly suspenseful and well-crafted motion picture that deserves a lot more attention than it receives. The shoestring budget the small studio (this was even before Kaufman and his friend and partner for over 30 years now, Michael Herz, formed Troma) had to work with is so well handled that the film looks a lot more expensive, indeed does not have a \"low budget\" look at all. The story revolves around lesbian Camilla Stone (played by enigmatic Mary Woronow) and her lover who winds up dead through circumstances I won\\'t reveal not to spoil a delightful story. This leads to a succession of plot-twists, mind games and personality reform that is loosely inspired by Hitchcock\\'s Vertigo and at least as inventive. The atmosphere is a lot grimmer, though, and some comparisons to Nicholas Roeg\\'s and Donald Cammell\\'s PERFORMANCE come to mind. In this mix is a very original and inventive erotic laden thriller that keeps it quite unclear as to how it is all going to end, which, along with a splendidly interwoven sub-plot with a nod to Kaufman\\'s earlier and unfortunately unavailable BIG GUSS WHAT\\'S THE FUSS, makes for a very exciting one-and-a-half-hour. Certainly one of the best films in Troma\\'s library, and yet again one of those films that defy the curious fantasy that their catalog is one of bad taste. The DVD includes some recent interviews Kaufman conducts with Woronov and the other leading lady Lynn Lowry (later seen in George Romero\\'s THE CRAZIES), thus giving some interesting insight in what went on during the making of this cult-favorite and a few hints of what would be different had Lloyd directed it himself. Highly recommended.',\n",
       "       b'A have a female friend who is currently being drawn into a relationship with an SOB who has a long term girlfriend. Of course the SOB is very good-looking, charming, etc and my friend is a very intelligent woman. Watching Jean Pierre Leaud\\'s character at work is exactly like watching what goes on in real life when guys like that destroy the lives of our female friends. It\\'s tragic, and you know she\\'s going to end up very hurt, but there\\'s nothing you can do. Leaud is brilliant. Totally empty. A blank throughout, he pulls the faces and tells the stories he thinks will get the reaction he wants.<br /><br />The scene two hours in when Leaud and Lebrun have made love, and the next morning he puts on a record and, very sweetly and charmingly, sings along to amuse her is brilliant. The \"What the hell am I doing here with this idiot\" expression that flickers back and forth across her face will be in my memory for a long time to come.<br /><br />It\\'s a long film, but see it in one go, preferably in a cinema. Takes a while to get into, but then the time just disappears.',\n",
       "       b\"After a quasi-Gothic, all-fruity music video, the movie starts with Cassidy the lead singer killing herself. In a perfect world that would be that and the end credits would roll. We don't live n that world. The insipid band members decide to go to some clown to contact her dead essence. When I say clown, I mean actual clown. He tell them they're all going to die via Cassidy's ghost (the spirit possesses Dora, one of the band-mates) We couldn't care less as the characters are all boring, vapid, and extremely horribly acted. Written by Adam Hackbarth (an incredibly apropos surname if there ever was one), and directed by Corbin Timbrook (who after The attendant, and Tower of blood, HAS to know that he keeps making crap for a living), this movie s a constant battle between the film's incompetence and the viewer's need to stay awake. Not enough blood to appease gore-hounds, nor enough nudity to satisfy pervs. This movie in fact has absolutely nothing to recommend to absolutely anyone.<br /><br />My Grade: F <br /><br />Eye Candy: Amanda Carraway gets topless <br /><br />Where i saw it: Starz on Demand\",\n",
       "       b\"He only gets third billing (behind Arthur Treacher & Virginia Field), but this was effectively David Niven's first starring role and he's charmingly silly as P. G. Wodehouse's dunderheaded Bertie Wooster, master (in name only) to Jeeves, that most unflappable of valets. As an adaptation, it's more like a watered-down THE 39 STEPS than a true Wodehousian outing. And that's too bad since the interplay between Treacher & Niven isn't too far off the mark. Alas, the 'B' movie mystery tropes & forced comedy grow wearisome even at a brief 57 minutes. Next year's follow-up (STEP LIVELY, JEEVES) was even more off the mark, with no Bertie in sight and Jeeves (of all people!) forced to play the goof.\",\n",
       "       b'What do I say about such an absolutely beautiful film? I saw this at the Atlanta, Georgia Dragoncon considering that this is my main town. I am very much a sci-fi aficionado and enjoy action type films. I happened to be up all night and was about ready to call it a day when I noticed this film playing in the morning. This is not a sci-fi nor action film of any sort. Let me just start out by saying that I am not a fan of Witchblade nor of Eric Etebari, having watched a few episodes(his performance in that seemed stale and robotic). But he managed to really win me over in this performance. I mean really win me over. Having seen Cellular, I did not think there was much in the way of acting for this guy. But his performance as Kasadya was simply amazing. He was exceedingly convincing as the evil demon. But there was so much in depth detail to this character it absolutely amazed me. I later looked it up online and found that Eric won the Best Actor award which is well deserved considering its the best of his career and gained my respect. Now I keep reading about the fx of this and production of this project and let me just say that I did not pay attention to them (sorry Brian). They were very nicely done but I was even more impressed with the story - which I think was even more his goal(Seeing films like Godzilla with huge effects just really turned me off). I could not sleep after this film thinking it over and over again in my head. The situation of an abusive family is never an easy one. I showed the trailer to my friend online and she almost cried because it affected her so having lived with abuse. This is one film that I think about constantly and would highly recommend.',\n",
       "       b'Having just seen this on TMC, it\\'s fresh in my mind. It\\'s obvious that while the stooges are featured stars, they don\\'t really run the show. First, they\\'re broken into 2 groups - Moe, as \"Shorty\" and Larry and Curly as a pair of vagrants, so there\\'s not a whole lot of full team work. The love story that fuels the plot is uninteresting, the two ladies are the only ones with any acting ability, there\\'s another group of musical stooges that are unfunny, unless you consider their attempts at being funny to be sadly buffoonish. The music is tiresome, they drive cars to the ranch and then depend on horses, the dorky western wear is silly, and there\\'s an awful lot of the movie with no stooges on camera. By the way, this is obviously after Curley\\'s first stroke, and his reduced energy level is clear. Vernon Dent appears early on in an uncredited role. I loved everything these guys ever did, including all the non-Curley stuff, but this little dogie is pretty lousy.'],\n",
       "      dtype=object)>"
      ]
     },
     "execution_count": 3,
     "metadata": {},
     "output_type": "execute_result"
    }
   ],
   "source": [
    "validation_qty = int(len(train_df)*0.1)\n",
    "train_ds = tf.data.Dataset.from_tensor_slices((list(train_df['sentence'].values)[validation_qty:], \n",
    "                                              list(train_df['polarity'].values)[validation_qty:])\n",
    "                                            )\n",
    "\n",
    "validate_ds = tf.data.Dataset.from_tensor_slices((list(train_df['sentence'].values)[:validation_qty], \n",
    "                                              list(train_df['polarity'].values)[:validation_qty])\n",
    "                                            )\n",
    "\n",
    "\n",
    "test_ds = tf.data.Dataset.from_tensor_slices((list(test_df['sentence'].values), \n",
    "                                              list(test_df['polarity'].values))\n",
    "                                            )\n",
    "train_examples_batch, train_labels_batch = next(iter(train_ds.batch(10)))\n",
    "train_examples_batch"
   ]
  },
  {
   "cell_type": "code",
   "execution_count": null,
   "metadata": {},
   "outputs": [],
   "source": []
  },
  {
   "cell_type": "markdown",
   "metadata": {},
   "source": [
    "### Feature columns\n",
    "\n",
    "TF-Hub provides a [feature column](https://www.tensorflow.org/hub/api_docs/python/hub/text_embedding_column.md) that applies a module on the given text feature and passes further the outputs of the module. In this tutorial we will be using the [nnlm-en-dim128 module](https://tfhub.dev/google/nnlm-en-dim128/1). For the purpose of this tutorial, the most important facts are:\n",
    "\n",
    "* The module takes **a batch of sentences in a 1-D tensor of strings** as input.\n",
    "* The module is responsible for **preprocessing of sentences** (e.g. removal of punctuation and splitting on spaces).\n",
    "* The module works with any input (e.g. **nnlm-en-dim128** hashes words not present in vocabulary into ~20.000 buckets)."
   ]
  },
  {
   "cell_type": "code",
   "execution_count": 13,
   "metadata": {},
   "outputs": [],
   "source": [
    "embedding = \"https://tfhub.dev/google/nnlm-en-dim128/2\"\n",
    "hub_layer = hub.KerasLayer(embedding, input_shape=[], \n",
    "                           dtype=tf.string)\n",
    "#hub_layer(train_examples_batch[:1])"
   ]
  },
  {
   "cell_type": "markdown",
   "metadata": {},
   "source": [
    "### DNN Classifier\n",
    "\n",
    "For classification we can use a DNN Classifier."
   ]
  },
  {
   "cell_type": "code",
   "execution_count": 14,
   "metadata": {},
   "outputs": [
    {
     "name": "stdout",
     "output_type": "stream",
     "text": [
      "WARNING: AutoGraph could not transform <tensorflow.python.saved_model.function_deserialization.RestoredFunction object at 0x7f06f7625f60> and will run it as-is.\n",
      "Please report this to the TensorFlow team. When filing the bug, set the verbosity to 10 (on Linux, `export AUTOGRAPH_VERBOSITY=10`) and attach the full output.\n",
      "Cause: Could not find matching function to call loaded from the SavedModel. Got:\n",
      "  Positional arguments (3 total):\n",
      "    * Tensor(\"inputs:0\", shape=(None,), dtype=string)\n",
      "    * False\n",
      "    * None\n",
      "  Keyword arguments: {}\n",
      "\n",
      "Expected these arguments to match one of the following 4 option(s):\n",
      "\n",
      "Option 1:\n",
      "  Positional arguments (3 total):\n",
      "    * [TensorSpec(shape=(None, None), dtype=tf.int32, name='inputs/0'), TensorSpec(shape=(None, None), dtype=tf.int32, name='inputs/1'), TensorSpec(shape=(None, None), dtype=tf.int32, name='inputs/2')]\n",
      "    * True\n",
      "    * None\n",
      "  Keyword arguments: {}\n",
      "\n",
      "Option 2:\n",
      "  Positional arguments (3 total):\n",
      "    * [TensorSpec(shape=(None, None), dtype=tf.int32, name='input_word_ids'), TensorSpec(shape=(None, None), dtype=tf.int32, name='input_mask'), TensorSpec(shape=(None, None), dtype=tf.int32, name='input_type_ids')]\n",
      "    * True\n",
      "    * None\n",
      "  Keyword arguments: {}\n",
      "\n",
      "Option 3:\n",
      "  Positional arguments (3 total):\n",
      "    * [TensorSpec(shape=(None, None), dtype=tf.int32, name='input_word_ids'), TensorSpec(shape=(None, None), dtype=tf.int32, name='input_mask'), TensorSpec(shape=(None, None), dtype=tf.int32, name='input_type_ids')]\n",
      "    * False\n",
      "    * None\n",
      "  Keyword arguments: {}\n",
      "\n",
      "Option 4:\n",
      "  Positional arguments (3 total):\n",
      "    * [TensorSpec(shape=(None, None), dtype=tf.int32, name='inputs/0'), TensorSpec(shape=(None, None), dtype=tf.int32, name='inputs/1'), TensorSpec(shape=(None, None), dtype=tf.int32, name='inputs/2')]\n",
      "    * False\n",
      "    * None\n",
      "  Keyword arguments: {}\n"
     ]
    },
    {
     "ename": "ValueError",
     "evalue": "in converted code:\n\n    /home/chanchus/developments/movies_classifier/venv/lib/python3.6/site-packages/tensorflow_hub/keras_layer.py:173 call  *\n        result = smart_cond.smart_cond(training,\n    /home/chanchus/developments/movies_classifier/venv/lib/python3.6/site-packages/tensorflow_core/python/framework/smart_cond.py:56 smart_cond\n        return false_fn()\n    /home/chanchus/developments/movies_classifier/venv/lib/python3.6/site-packages/tensorflow_core/python/saved_model/load.py:438 _call_attribute\n        return instance.__call__(*args, **kwargs)\n    /home/chanchus/developments/movies_classifier/venv/lib/python3.6/site-packages/tensorflow_core/python/eager/def_function.py:568 __call__\n        result = self._call(*args, **kwds)\n    /home/chanchus/developments/movies_classifier/venv/lib/python3.6/site-packages/tensorflow_core/python/eager/def_function.py:606 _call\n        results = self._stateful_fn(*args, **kwds)\n    /home/chanchus/developments/movies_classifier/venv/lib/python3.6/site-packages/tensorflow_core/python/eager/function.py:2362 __call__\n        graph_function, args, kwargs = self._maybe_define_function(args, kwargs)\n    /home/chanchus/developments/movies_classifier/venv/lib/python3.6/site-packages/tensorflow_core/python/eager/function.py:2703 _maybe_define_function\n        graph_function = self._create_graph_function(args, kwargs)\n    /home/chanchus/developments/movies_classifier/venv/lib/python3.6/site-packages/tensorflow_core/python/eager/function.py:2593 _create_graph_function\n        capture_by_value=self._capture_by_value),\n    /home/chanchus/developments/movies_classifier/venv/lib/python3.6/site-packages/tensorflow_core/python/framework/func_graph.py:978 func_graph_from_py_func\n        func_outputs = python_func(*func_args, **func_kwargs)\n    /home/chanchus/developments/movies_classifier/venv/lib/python3.6/site-packages/tensorflow_core/python/eager/def_function.py:439 wrapped_fn\n        return weak_wrapped_fn().__wrapped__(*args, **kwds)\n    /home/chanchus/developments/movies_classifier/venv/lib/python3.6/site-packages/tensorflow_core/python/saved_model/function_deserialization.py:262 restored_function_body\n        \"\\n\\n\".join(signature_descriptions)))\n\n    ValueError: Could not find matching function to call loaded from the SavedModel. Got:\n      Positional arguments (3 total):\n        * Tensor(\"inputs:0\", shape=(None,), dtype=string)\n        * False\n        * None\n      Keyword arguments: {}\n    \n    Expected these arguments to match one of the following 4 option(s):\n    \n    Option 1:\n      Positional arguments (3 total):\n        * [TensorSpec(shape=(None, None), dtype=tf.int32, name='inputs/0'), TensorSpec(shape=(None, None), dtype=tf.int32, name='inputs/1'), TensorSpec(shape=(None, None), dtype=tf.int32, name='inputs/2')]\n        * True\n        * None\n      Keyword arguments: {}\n    \n    Option 2:\n      Positional arguments (3 total):\n        * [TensorSpec(shape=(None, None), dtype=tf.int32, name='input_word_ids'), TensorSpec(shape=(None, None), dtype=tf.int32, name='input_mask'), TensorSpec(shape=(None, None), dtype=tf.int32, name='input_type_ids')]\n        * True\n        * None\n      Keyword arguments: {}\n    \n    Option 3:\n      Positional arguments (3 total):\n        * [TensorSpec(shape=(None, None), dtype=tf.int32, name='input_word_ids'), TensorSpec(shape=(None, None), dtype=tf.int32, name='input_mask'), TensorSpec(shape=(None, None), dtype=tf.int32, name='input_type_ids')]\n        * False\n        * None\n      Keyword arguments: {}\n    \n    Option 4:\n      Positional arguments (3 total):\n        * [TensorSpec(shape=(None, None), dtype=tf.int32, name='inputs/0'), TensorSpec(shape=(None, None), dtype=tf.int32, name='inputs/1'), TensorSpec(shape=(None, None), dtype=tf.int32, name='inputs/2')]\n        * False\n        * None\n      Keyword arguments: {}\n",
     "output_type": "error",
     "traceback": [
      "\u001b[0;31m---------------------------------------------------------------------------\u001b[0m",
      "\u001b[0;31mValueError\u001b[0m                                Traceback (most recent call last)",
      "\u001b[0;32m<ipython-input-14-aed20c05f53b>\u001b[0m in \u001b[0;36m<module>\u001b[0;34m\u001b[0m\n\u001b[1;32m      1\u001b[0m \u001b[0mmodel\u001b[0m \u001b[0;34m=\u001b[0m \u001b[0mtf\u001b[0m\u001b[0;34m.\u001b[0m\u001b[0mkeras\u001b[0m\u001b[0;34m.\u001b[0m\u001b[0mSequential\u001b[0m\u001b[0;34m(\u001b[0m\u001b[0;34m)\u001b[0m\u001b[0;34m\u001b[0m\u001b[0;34m\u001b[0m\u001b[0m\n\u001b[0;32m----> 2\u001b[0;31m \u001b[0mmodel\u001b[0m\u001b[0;34m.\u001b[0m\u001b[0madd\u001b[0m\u001b[0;34m(\u001b[0m\u001b[0mhub_layer\u001b[0m\u001b[0;34m)\u001b[0m\u001b[0;34m\u001b[0m\u001b[0;34m\u001b[0m\u001b[0m\n\u001b[0m\u001b[1;32m      3\u001b[0m \u001b[0mmodel\u001b[0m\u001b[0;34m.\u001b[0m\u001b[0madd\u001b[0m\u001b[0;34m(\u001b[0m\u001b[0mtf\u001b[0m\u001b[0;34m.\u001b[0m\u001b[0mkeras\u001b[0m\u001b[0;34m.\u001b[0m\u001b[0mlayers\u001b[0m\u001b[0;34m.\u001b[0m\u001b[0mDense\u001b[0m\u001b[0;34m(\u001b[0m\u001b[0;36m32\u001b[0m\u001b[0;34m,\u001b[0m \u001b[0mactivation\u001b[0m\u001b[0;34m=\u001b[0m\u001b[0;34m'relu'\u001b[0m\u001b[0;34m)\u001b[0m\u001b[0;34m)\u001b[0m\u001b[0;34m\u001b[0m\u001b[0;34m\u001b[0m\u001b[0m\n\u001b[1;32m      4\u001b[0m \u001b[0mmodel\u001b[0m\u001b[0;34m.\u001b[0m\u001b[0madd\u001b[0m\u001b[0;34m(\u001b[0m\u001b[0mtf\u001b[0m\u001b[0;34m.\u001b[0m\u001b[0mkeras\u001b[0m\u001b[0;34m.\u001b[0m\u001b[0mlayers\u001b[0m\u001b[0;34m.\u001b[0m\u001b[0mDense\u001b[0m\u001b[0;34m(\u001b[0m\u001b[0;36m16\u001b[0m\u001b[0;34m,\u001b[0m \u001b[0mactivation\u001b[0m\u001b[0;34m=\u001b[0m\u001b[0;34m'relu'\u001b[0m\u001b[0;34m)\u001b[0m\u001b[0;34m)\u001b[0m\u001b[0;34m\u001b[0m\u001b[0;34m\u001b[0m\u001b[0m\n\u001b[1;32m      5\u001b[0m \u001b[0mmodel\u001b[0m\u001b[0;34m.\u001b[0m\u001b[0madd\u001b[0m\u001b[0;34m(\u001b[0m\u001b[0mtf\u001b[0m\u001b[0;34m.\u001b[0m\u001b[0mkeras\u001b[0m\u001b[0;34m.\u001b[0m\u001b[0mlayers\u001b[0m\u001b[0;34m.\u001b[0m\u001b[0mDense\u001b[0m\u001b[0;34m(\u001b[0m\u001b[0;36m1\u001b[0m\u001b[0;34m,\u001b[0m \u001b[0mactivation\u001b[0m\u001b[0;34m=\u001b[0m\u001b[0;34m'sigmoid'\u001b[0m\u001b[0;34m)\u001b[0m\u001b[0;34m)\u001b[0m\u001b[0;34m\u001b[0m\u001b[0;34m\u001b[0m\u001b[0m\n",
      "\u001b[0;32m~/developments/movies_classifier/venv/lib/python3.6/site-packages/tensorflow_core/python/training/tracking/base.py\u001b[0m in \u001b[0;36m_method_wrapper\u001b[0;34m(self, *args, **kwargs)\u001b[0m\n\u001b[1;32m    455\u001b[0m     \u001b[0mself\u001b[0m\u001b[0;34m.\u001b[0m\u001b[0m_self_setattr_tracking\u001b[0m \u001b[0;34m=\u001b[0m \u001b[0;32mFalse\u001b[0m  \u001b[0;31m# pylint: disable=protected-access\u001b[0m\u001b[0;34m\u001b[0m\u001b[0;34m\u001b[0m\u001b[0m\n\u001b[1;32m    456\u001b[0m     \u001b[0;32mtry\u001b[0m\u001b[0;34m:\u001b[0m\u001b[0;34m\u001b[0m\u001b[0;34m\u001b[0m\u001b[0m\n\u001b[0;32m--> 457\u001b[0;31m       \u001b[0mresult\u001b[0m \u001b[0;34m=\u001b[0m \u001b[0mmethod\u001b[0m\u001b[0;34m(\u001b[0m\u001b[0mself\u001b[0m\u001b[0;34m,\u001b[0m \u001b[0;34m*\u001b[0m\u001b[0margs\u001b[0m\u001b[0;34m,\u001b[0m \u001b[0;34m**\u001b[0m\u001b[0mkwargs\u001b[0m\u001b[0;34m)\u001b[0m\u001b[0;34m\u001b[0m\u001b[0;34m\u001b[0m\u001b[0m\n\u001b[0m\u001b[1;32m    458\u001b[0m     \u001b[0;32mfinally\u001b[0m\u001b[0;34m:\u001b[0m\u001b[0;34m\u001b[0m\u001b[0;34m\u001b[0m\u001b[0m\n\u001b[1;32m    459\u001b[0m       \u001b[0mself\u001b[0m\u001b[0;34m.\u001b[0m\u001b[0m_self_setattr_tracking\u001b[0m \u001b[0;34m=\u001b[0m \u001b[0mprevious_value\u001b[0m  \u001b[0;31m# pylint: disable=protected-access\u001b[0m\u001b[0;34m\u001b[0m\u001b[0;34m\u001b[0m\u001b[0m\n",
      "\u001b[0;32m~/developments/movies_classifier/venv/lib/python3.6/site-packages/tensorflow_core/python/keras/engine/sequential.py\u001b[0m in \u001b[0;36madd\u001b[0;34m(self, layer)\u001b[0m\n\u001b[1;32m    183\u001b[0m           \u001b[0;31m# and create the node connecting the current layer\u001b[0m\u001b[0;34m\u001b[0m\u001b[0;34m\u001b[0m\u001b[0;34m\u001b[0m\u001b[0m\n\u001b[1;32m    184\u001b[0m           \u001b[0;31m# to the input layer we just created.\u001b[0m\u001b[0;34m\u001b[0m\u001b[0;34m\u001b[0m\u001b[0;34m\u001b[0m\u001b[0m\n\u001b[0;32m--> 185\u001b[0;31m           \u001b[0mlayer\u001b[0m\u001b[0;34m(\u001b[0m\u001b[0mx\u001b[0m\u001b[0;34m)\u001b[0m\u001b[0;34m\u001b[0m\u001b[0;34m\u001b[0m\u001b[0m\n\u001b[0m\u001b[1;32m    186\u001b[0m           \u001b[0mset_inputs\u001b[0m \u001b[0;34m=\u001b[0m \u001b[0;32mTrue\u001b[0m\u001b[0;34m\u001b[0m\u001b[0;34m\u001b[0m\u001b[0m\n\u001b[1;32m    187\u001b[0m \u001b[0;34m\u001b[0m\u001b[0m\n",
      "\u001b[0;32m~/developments/movies_classifier/venv/lib/python3.6/site-packages/tensorflow_core/python/keras/engine/base_layer.py\u001b[0m in \u001b[0;36m__call__\u001b[0;34m(self, inputs, *args, **kwargs)\u001b[0m\n\u001b[1;32m    771\u001b[0m                     not base_layer_utils.is_in_eager_or_tf_function()):\n\u001b[1;32m    772\u001b[0m                   \u001b[0;32mwith\u001b[0m \u001b[0mauto_control_deps\u001b[0m\u001b[0;34m.\u001b[0m\u001b[0mAutomaticControlDependencies\u001b[0m\u001b[0;34m(\u001b[0m\u001b[0;34m)\u001b[0m \u001b[0;32mas\u001b[0m \u001b[0macd\u001b[0m\u001b[0;34m:\u001b[0m\u001b[0;34m\u001b[0m\u001b[0;34m\u001b[0m\u001b[0m\n\u001b[0;32m--> 773\u001b[0;31m                     \u001b[0moutputs\u001b[0m \u001b[0;34m=\u001b[0m \u001b[0mcall_fn\u001b[0m\u001b[0;34m(\u001b[0m\u001b[0mcast_inputs\u001b[0m\u001b[0;34m,\u001b[0m \u001b[0;34m*\u001b[0m\u001b[0margs\u001b[0m\u001b[0;34m,\u001b[0m \u001b[0;34m**\u001b[0m\u001b[0mkwargs\u001b[0m\u001b[0;34m)\u001b[0m\u001b[0;34m\u001b[0m\u001b[0;34m\u001b[0m\u001b[0m\n\u001b[0m\u001b[1;32m    774\u001b[0m                     \u001b[0;31m# Wrap Tensors in `outputs` in `tf.identity` to avoid\u001b[0m\u001b[0;34m\u001b[0m\u001b[0;34m\u001b[0m\u001b[0;34m\u001b[0m\u001b[0m\n\u001b[1;32m    775\u001b[0m                     \u001b[0;31m# circular dependencies.\u001b[0m\u001b[0;34m\u001b[0m\u001b[0;34m\u001b[0m\u001b[0;34m\u001b[0m\u001b[0m\n",
      "\u001b[0;32m~/developments/movies_classifier/venv/lib/python3.6/site-packages/tensorflow_core/python/autograph/impl/api.py\u001b[0m in \u001b[0;36mwrapper\u001b[0;34m(*args, **kwargs)\u001b[0m\n\u001b[1;32m    235\u001b[0m       \u001b[0;32mexcept\u001b[0m \u001b[0mException\u001b[0m \u001b[0;32mas\u001b[0m \u001b[0me\u001b[0m\u001b[0;34m:\u001b[0m  \u001b[0;31m# pylint:disable=broad-except\u001b[0m\u001b[0;34m\u001b[0m\u001b[0;34m\u001b[0m\u001b[0m\n\u001b[1;32m    236\u001b[0m         \u001b[0;32mif\u001b[0m \u001b[0mhasattr\u001b[0m\u001b[0;34m(\u001b[0m\u001b[0me\u001b[0m\u001b[0;34m,\u001b[0m \u001b[0;34m'ag_error_metadata'\u001b[0m\u001b[0;34m)\u001b[0m\u001b[0;34m:\u001b[0m\u001b[0;34m\u001b[0m\u001b[0;34m\u001b[0m\u001b[0m\n\u001b[0;32m--> 237\u001b[0;31m           \u001b[0;32mraise\u001b[0m \u001b[0me\u001b[0m\u001b[0;34m.\u001b[0m\u001b[0mag_error_metadata\u001b[0m\u001b[0;34m.\u001b[0m\u001b[0mto_exception\u001b[0m\u001b[0;34m(\u001b[0m\u001b[0me\u001b[0m\u001b[0;34m)\u001b[0m\u001b[0;34m\u001b[0m\u001b[0;34m\u001b[0m\u001b[0m\n\u001b[0m\u001b[1;32m    238\u001b[0m         \u001b[0;32melse\u001b[0m\u001b[0;34m:\u001b[0m\u001b[0;34m\u001b[0m\u001b[0;34m\u001b[0m\u001b[0m\n\u001b[1;32m    239\u001b[0m           \u001b[0;32mraise\u001b[0m\u001b[0;34m\u001b[0m\u001b[0;34m\u001b[0m\u001b[0m\n",
      "\u001b[0;31mValueError\u001b[0m: in converted code:\n\n    /home/chanchus/developments/movies_classifier/venv/lib/python3.6/site-packages/tensorflow_hub/keras_layer.py:173 call  *\n        result = smart_cond.smart_cond(training,\n    /home/chanchus/developments/movies_classifier/venv/lib/python3.6/site-packages/tensorflow_core/python/framework/smart_cond.py:56 smart_cond\n        return false_fn()\n    /home/chanchus/developments/movies_classifier/venv/lib/python3.6/site-packages/tensorflow_core/python/saved_model/load.py:438 _call_attribute\n        return instance.__call__(*args, **kwargs)\n    /home/chanchus/developments/movies_classifier/venv/lib/python3.6/site-packages/tensorflow_core/python/eager/def_function.py:568 __call__\n        result = self._call(*args, **kwds)\n    /home/chanchus/developments/movies_classifier/venv/lib/python3.6/site-packages/tensorflow_core/python/eager/def_function.py:606 _call\n        results = self._stateful_fn(*args, **kwds)\n    /home/chanchus/developments/movies_classifier/venv/lib/python3.6/site-packages/tensorflow_core/python/eager/function.py:2362 __call__\n        graph_function, args, kwargs = self._maybe_define_function(args, kwargs)\n    /home/chanchus/developments/movies_classifier/venv/lib/python3.6/site-packages/tensorflow_core/python/eager/function.py:2703 _maybe_define_function\n        graph_function = self._create_graph_function(args, kwargs)\n    /home/chanchus/developments/movies_classifier/venv/lib/python3.6/site-packages/tensorflow_core/python/eager/function.py:2593 _create_graph_function\n        capture_by_value=self._capture_by_value),\n    /home/chanchus/developments/movies_classifier/venv/lib/python3.6/site-packages/tensorflow_core/python/framework/func_graph.py:978 func_graph_from_py_func\n        func_outputs = python_func(*func_args, **func_kwargs)\n    /home/chanchus/developments/movies_classifier/venv/lib/python3.6/site-packages/tensorflow_core/python/eager/def_function.py:439 wrapped_fn\n        return weak_wrapped_fn().__wrapped__(*args, **kwds)\n    /home/chanchus/developments/movies_classifier/venv/lib/python3.6/site-packages/tensorflow_core/python/saved_model/function_deserialization.py:262 restored_function_body\n        \"\\n\\n\".join(signature_descriptions)))\n\n    ValueError: Could not find matching function to call loaded from the SavedModel. Got:\n      Positional arguments (3 total):\n        * Tensor(\"inputs:0\", shape=(None,), dtype=string)\n        * False\n        * None\n      Keyword arguments: {}\n    \n    Expected these arguments to match one of the following 4 option(s):\n    \n    Option 1:\n      Positional arguments (3 total):\n        * [TensorSpec(shape=(None, None), dtype=tf.int32, name='inputs/0'), TensorSpec(shape=(None, None), dtype=tf.int32, name='inputs/1'), TensorSpec(shape=(None, None), dtype=tf.int32, name='inputs/2')]\n        * True\n        * None\n      Keyword arguments: {}\n    \n    Option 2:\n      Positional arguments (3 total):\n        * [TensorSpec(shape=(None, None), dtype=tf.int32, name='input_word_ids'), TensorSpec(shape=(None, None), dtype=tf.int32, name='input_mask'), TensorSpec(shape=(None, None), dtype=tf.int32, name='input_type_ids')]\n        * True\n        * None\n      Keyword arguments: {}\n    \n    Option 3:\n      Positional arguments (3 total):\n        * [TensorSpec(shape=(None, None), dtype=tf.int32, name='input_word_ids'), TensorSpec(shape=(None, None), dtype=tf.int32, name='input_mask'), TensorSpec(shape=(None, None), dtype=tf.int32, name='input_type_ids')]\n        * False\n        * None\n      Keyword arguments: {}\n    \n    Option 4:\n      Positional arguments (3 total):\n        * [TensorSpec(shape=(None, None), dtype=tf.int32, name='inputs/0'), TensorSpec(shape=(None, None), dtype=tf.int32, name='inputs/1'), TensorSpec(shape=(None, None), dtype=tf.int32, name='inputs/2')]\n        * False\n        * None\n      Keyword arguments: {}\n"
     ]
    }
   ],
   "source": [
    "model = tf.keras.Sequential()\n",
    "model.add(hub_layer)\n",
    "model.add(tf.keras.layers.Dense(32, activation='relu'))\n",
    "model.add(tf.keras.layers.Dense(16, activation='relu'))\n",
    "model.add(tf.keras.layers.Dense(1, activation='sigmoid'))\n",
    "\n",
    "model.summary()"
   ]
  },
  {
   "cell_type": "code",
   "execution_count": null,
   "metadata": {},
   "outputs": [],
   "source": [
    "model.compile(optimizer='adam',\n",
    "              loss=tf.keras.losses.BinaryCrossentropy(from_logits=True),\n",
    "              metrics=['accuracy'])"
   ]
  },
  {
   "cell_type": "markdown",
   "metadata": {},
   "source": [
    "### Training\n",
    "\n",
    "Train the estimator for a reasonable amount of steps."
   ]
  },
  {
   "cell_type": "markdown",
   "metadata": {},
   "source": [
    "# Prediction\n",
    "\n",
    "Run predictions for both training and test set."
   ]
  },
  {
   "cell_type": "code",
   "execution_count": null,
   "metadata": {},
   "outputs": [],
   "source": [
    "history = model.fit(train_ds.shuffle(10000).batch(512),\n",
    "                    epochs=5,\n",
    "                    validation_data=validate_ds.batch(512),\n",
    "                    verbose=1)"
   ]
  },
  {
   "cell_type": "code",
   "execution_count": 125,
   "metadata": {},
   "outputs": [
    {
     "name": "stdout",
     "output_type": "stream",
     "text": [
      "49/49 - 2s - loss: 0.5662 - accuracy: 0.8698\n",
      "loss: 0.566\n",
      "accuracy: 0.870\n"
     ]
    }
   ],
   "source": [
    "results = model.evaluate(test_ds.batch(512), verbose=2)\n",
    "\n",
    "for name, value in zip(model.metrics_names, results):\n",
    "  print(\"%s: %.3f\" % (name, value))"
   ]
  },
  {
   "cell_type": "code",
   "execution_count": 126,
   "metadata": {
    "scrolled": false
   },
   "outputs": [
    {
     "data": {
      "image/png": "[encoded data removed]",
      "text/plain": [
       "<Figure size 432x288 with 2 Axes>"
      ]
     },
     "metadata": {
      "needs_background": "light"
     },
     "output_type": "display_data"
    }
   ],
   "source": [
    "LABELS = [\n",
    "    \"negative\", \"positive\"\n",
    "]\n",
    "\n",
    "# Create a confusion matrix on training data.\n",
    "cm = tf.math.confusion_matrix(test_df[\"polarity\"], \n",
    "                              model.predict(test_ds.batch(512)) > 0.5)\n",
    "\n",
    "# Normalize the confusion matrix so that each row sums to 1.\n",
    "cm = tf.cast(cm, dtype=tf.float32)\n",
    "cm = cm / tf.math.reduce_sum(cm, axis=1)[:, np.newaxis]\n",
    "\n",
    "sns.heatmap(cm, annot=True, xticklabels=LABELS, yticklabels=LABELS);\n",
    "plt.xlabel(\"Predicted\");\n",
    "plt.ylabel(\"True\");"
   ]
  },
  {
   "cell_type": "code",
   "execution_count": 127,
   "metadata": {},
   "outputs": [
    {
     "data": {
      "text/plain": [
       "array([[0.98417956]], dtype=float32)"
      ]
     },
     "execution_count": 127,
     "metadata": {},
     "output_type": "execute_result"
    }
   ],
   "source": [
    "model.predict(['It was great'])"
   ]
  },
  {
   "cell_type": "code",
   "execution_count": null,
   "metadata": {},
   "outputs": [],
   "source": []
  }
 ],
 "metadata": {
  "kernelspec": {
   "display_name": "Python 3",
   "language": "python",
   "name": "python3"
  },
  "language_info": {
   "codemirror_mode": {
    "name": "ipython",
    "version": 3
   },
   "file_extension": ".py",
   "mimetype": "text/x-python",
   "name": "python",
   "nbconvert_exporter": "python",
   "pygments_lexer": "ipython3",
   "version": "3.6.9"
  }
 },
 "nbformat": 4,
 "nbformat_minor": 4
}
